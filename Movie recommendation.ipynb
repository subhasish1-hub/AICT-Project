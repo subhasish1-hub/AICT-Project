{
 "cells": [
  {
   "cell_type": "raw",
   "id": "64d637d3-1cd8-46d2-b4a8-0773362a15d6",
   "metadata": {},
   "source": [
    "!pip install pandas numpy scikit-learn matplotlib seaborn streamlit"
   ]
  },
  {
   "cell_type": "code",
   "execution_count": 5,
   "id": "1f2f9865-481e-435a-8f08-f3f0a69fa9a1",
   "metadata": {},
   "outputs": [
    {
     "name": "stdout",
     "output_type": "stream",
     "text": [
      "   movieId                               title  \\\n",
      "0        1                    Toy Story (1995)   \n",
      "1        2                      Jumanji (1995)   \n",
      "2        3             Grumpier Old Men (1995)   \n",
      "3        4            Waiting to Exhale (1995)   \n",
      "4        5  Father of the Bride Part II (1995)   \n",
      "\n",
      "                                        genres  \n",
      "0  Adventure|Animation|Children|Comedy|Fantasy  \n",
      "1                   Adventure|Children|Fantasy  \n",
      "2                               Comedy|Romance  \n",
      "3                         Comedy|Drama|Romance  \n",
      "4                                       Comedy  \n",
      "   userId  movieId  rating  timestamp\n",
      "0       1        1     4.0  964982703\n",
      "1       1        3     4.0  964981247\n",
      "2       1        6     4.0  964982224\n",
      "3       1       47     5.0  964983815\n",
      "4       1       50     5.0  964982931\n"
     ]
    }
   ],
   "source": [
    "import pandas as pd\n",
    "movies = pd.read_csv(\"C:/Users/ghosh/OneDrive/dataset/ml-latest-small/movies.csv\")\n",
    "ratings = pd.read_csv(\"C:/Users/ghosh/OneDrive/dataset/ml-latest-small/ratings.csv\")\n",
    "\n",
    "print(movies.head())\n",
    "print(ratings.head())"
   ]
  },
  {
   "cell_type": "code",
   "execution_count": 7,
   "id": "a7ff0e86-78ca-4075-bd87-f1b576f585ee",
   "metadata": {},
   "outputs": [],
   "source": [
    "from sklearn.feature_extraction.text import TfidfVectorizer\n",
    "from sklearn.metrics.pairwise import cosine_similarity\n",
    "\n",
    "\n",
    "movies['genres'] = movies['genres'].fillna('')\n",
    "\n",
    "tfidf = TfidfVectorizer(stop_words='english')\n",
    "tfidf_matrix = tfidf.fit_transform(movies['genres'])\n",
    "\n",
    "\n",
    "cosine_sim = cosine_similarity(tfidf_matrix, tfidf_matrix)\n",
    "\n",
    "\n",
    "indices = pd.Series(movies.index, index=movies['title']).drop_duplicates()\n"
   ]
  },
  {
   "cell_type": "code",
   "execution_count": 8,
   "id": "8bd594a3-a5c8-416f-8ff1-540c31b6c1d9",
   "metadata": {},
   "outputs": [
    {
     "name": "stdout",
     "output_type": "stream",
     "text": [
      "1706                                       Antz (1998)\n",
      "2355                                Toy Story 2 (1999)\n",
      "2809    Adventures of Rocky and Bullwinkle, The (2000)\n",
      "3000                  Emperor's New Groove, The (2000)\n",
      "3568                             Monsters, Inc. (2001)\n",
      "Name: title, dtype: object\n"
     ]
    }
   ],
   "source": [
    "def content_recommendations(title, num_recommendations=5):\n",
    "    idx = indices[title]\n",
    "    sim_scores = list(enumerate(cosine_sim[idx]))\n",
    "    sim_scores = sorted(sim_scores, key=lambda x: x[1], reverse=True)[1:num_recommendations+1]\n",
    "    movie_indices = [i[0] for i in sim_scores]\n",
    "    return movies['title'].iloc[movie_indices]\n",
    "\n",
    "\n",
    "print(content_recommendations('Toy Story (1995)'))\n"
   ]
  },
  {
   "cell_type": "markdown",
   "id": "750601e3-f359-4511-8ea4-cee6c6f8dc06",
   "metadata": {},
   "source": [
    "Content-based filtering recommends movies similar to the one selected based on metadata such as genre, description, or tags. For example, given 'Toy Story (1995)', which is an animated children's comedy, the recommender system outputs other movies with similar genres. It uses techniques like TF-IDF and cosine similarity to find content similarity. The recommendations do not depend on other users’ preferences, only on the content of the selected movie."
   ]
  },
  {
   "cell_type": "code",
   "execution_count": 9,
   "id": "2348f122-0259-4f44-bac1-cd4035ddba77",
   "metadata": {},
   "outputs": [],
   "source": [
    "#collaborative filter\n",
    "user_movie_matrix = ratings.pivot_table(index='userId', columns='movieId', values='rating').fillna(0)\n"
   ]
  },
  {
   "cell_type": "code",
   "execution_count": 10,
   "id": "71ab1f40-aabe-4b11-8124-1637ec443a86",
   "metadata": {},
   "outputs": [],
   "source": [
    "from sklearn.metrics.pairwise import cosine_similarity\n",
    "\n",
    "user_similarity = cosine_similarity(user_movie_matrix)\n",
    "user_sim_df = pd.DataFrame(user_similarity, index=user_movie_matrix.index, columns=user_movie_matrix.index)\n"
   ]
  },
  {
   "cell_type": "code",
   "execution_count": 11,
   "id": "3b05dd22-be6f-4b64-8917-96f82c95380e",
   "metadata": {},
   "outputs": [
    {
     "name": "stdout",
     "output_type": "stream",
     "text": [
      "                                                     title\n",
      "movieId                                                   \n",
      "6539     Pirates of the Caribbean: The Curse of the Bla...\n",
      "6820                                   Ginger Snaps (2000)\n",
      "8636                                   Spider-Man 2 (2004)\n",
      "6659                                        Tremors (1990)\n",
      "6857                  Ninja Scroll (Jûbei ninpûchô) (1995)\n"
     ]
    }
   ],
   "source": [
    "def get_collab_recommendations(user_id, num_recommendations=5):\n",
    "    similar_users = user_sim_df[user_id].sort_values(ascending=False)[1:6]\n",
    "    similar_users_ids = similar_users.index\n",
    "\n",
    "  \n",
    "    recommended_movies = ratings[ratings['userId'].isin(similar_users_ids)]\n",
    "    recommended_movies = recommended_movies.groupby('movieId')['rating'].mean().sort_values(ascending=False).head(num_recommendations)\n",
    "\n",
    "    movie_titles = movies[movies['movieId'].isin(recommended_movies.index)][['movieId', 'title']]\n",
    "    return movie_titles.set_index('movieId').loc[recommended_movies.index]\n",
    "    \n",
    "\n",
    "print(get_collab_recommendations(1))\n"
   ]
  },
  {
   "cell_type": "markdown",
   "id": "6f96a0f0-26b6-49df-b873-45eca8a1c270",
   "metadata": {},
   "source": [
    "Collaborative filtering recommends movies to a user based on the preferences and ratings of other users who have shown similar behavior. Instead of analyzing the content of the movies, it relies on finding users with similar taste patterns and suggests movies those similar users liked — even if the genres or content are different. For example, if User 1 liked 'Toy Story', and User 2 liked both 'Toy Story' and 'The Matrix', then the system may recommend 'The Matrix' to User 1, even though it's a completely different genre. This technique is driven by user behavior and shared preferences."
   ]
  }
 ],
 "metadata": {
  "kernelspec": {
   "display_name": "Python [conda env:base] *",
   "language": "python",
   "name": "conda-base-py"
  },
  "language_info": {
   "codemirror_mode": {
    "name": "ipython",
    "version": 3
   },
   "file_extension": ".py",
   "mimetype": "text/x-python",
   "name": "python",
   "nbconvert_exporter": "python",
   "pygments_lexer": "ipython3",
   "version": "3.13.5"
  }
 },
 "nbformat": 4,
 "nbformat_minor": 5
}
